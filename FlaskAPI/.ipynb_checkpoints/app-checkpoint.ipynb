{
 "cells": [
  {
   "cell_type": "code",
   "execution_count": null,
   "metadata": {},
   "outputs": [],
   "source": [
    "import flask\n",
    "from flask import Flask, jsonify, request\n",
    "import json\n",
    "from data_input import data_in\n",
    "import numpy as np\n",
    "import pickle\n",
    "\n",
    "\n",
    "def load_models():\n",
    "    file_name = \"models/model_file.p\"\n",
    "    with open(file_name, 'rb') as pickled:\n",
    "        data = pickle.load(pickled)\n",
    "        model = data['model']\n",
    "    return model\n",
    "\n",
    "app = Flask(__name__)\n",
    "@app.route('/predict', methods=['GET'])\n",
    "\n",
    "def predict():\n",
    "    # stub input features\n",
    "    request_json = request.get_json()\n",
    "    x = request_json['input']\n",
    "    x_in = np.array(x ).reshape(1,-1)\n",
    "    # load model\n",
    "    model = load_models()\n",
    "    prediction = model.predict(x_in)[0]\n",
    "    response = json.dumps({'response': prediction})\n",
    "    return response, 200\n",
    "\n",
    "\n",
    "if __name__ == '__main__':\n",
    "    application.run(debug=True)"
   ]
  }
 ],
 "metadata": {
  "kernelspec": {
   "display_name": "Python 3",
   "language": "python",
   "name": "python3"
  },
  "language_info": {
   "codemirror_mode": {
    "name": "ipython",
    "version": 3
   },
   "file_extension": ".py",
   "mimetype": "text/x-python",
   "name": "python",
   "nbconvert_exporter": "python",
   "pygments_lexer": "ipython3",
   "version": "3.8.0"
  }
 },
 "nbformat": 4,
 "nbformat_minor": 4
}
